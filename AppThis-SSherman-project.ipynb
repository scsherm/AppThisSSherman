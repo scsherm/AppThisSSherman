{
 "cells": [
  {
   "cell_type": "markdown",
   "metadata": {},
   "source": [
    "# __AppThis__\n",
    "##__Predicting Install Rates__\n",
    "Samuel Sherman \n",
    "\n",
    "August, 2015"
   ]
  },
  {
   "cell_type": "markdown",
   "metadata": {},
   "source": [
    "I am currently using vagrant virtual machine running spark on an ipython notebook.  This worked extremely efficiently in reading the data through the vagrant root directory. However, I encountered numerous problems when trying to index the categorical variables and training the model, even with hashing. It was unable to manage these tasks with the size of the data and consistently displayed errors due to memory problems.  I am currently trying to setup a virtual machine with hortonworks sandbox, spark and will configure the ipython notebook. Although, as a means to save time and provide a demonstration of my ability to process data with machine learning and statistical analysis, I went with a different approach."
   ]
  },
  {
   "cell_type": "markdown",
   "metadata": {},
   "source": [
    "##__Data Examination__"
   ]
  },
  {
   "cell_type": "code",
   "execution_count": 1,
   "metadata": {
    "collapsed": false
   },
   "outputs": [
    {
     "name": "stdout",
     "output_type": "stream",
     "text": [
      "[u'2015-07-30 00:00:00\\t\\\\N\\t\\\\N\\t49ae49a23f67c759bf4fc791ba842aa2\\t2\\td41d8cd98f00b204e9800998ecf8427e\\t5c3bed7777c3ff23112626965b946ffa\\tRU\\t55.75\\t37.616600036621\\t\\\\N\\t\\\\N\\t\\\\N\\t\\\\N\\tiPhone\\t17\\t8\\t4\\t36\\t8\\t4\\t697766074\\t\\\\N\\tRainly -WW\\t0', u'2015-07-30 00:00:00\\t\\\\N\\t\\\\N\\t49ae49a23f67c759bf4fc791ba842aa2\\t2\\td41d8cd98f00b204e9800998ecf8427e\\t5c3bed7777c3ff23112626965b946ffa\\tRU\\t62.0339012146\\t129.73309326172\\t\\\\N\\t63\\tYakutsk\\t677022\\tiPhone\\t17\\t8\\t4\\t36\\t8\\t4\\t667728512\\tcom.machinezone.gow\\tGame of War - Fire Age\\t0']\n"
     ]
    }
   ],
   "source": [
    "numPartitions = 1000\n",
    "rawData = sc.textFile('ss_sample.tsv.gz', numPartitions)\n",
    "print rawData.take(2)"
   ]
  },
  {
   "cell_type": "markdown",
   "metadata": {},
   "source": [
    "I will now examine the attributes associated with the ios bundle id and the information provided through the itunes app store."
   ]
  },
  {
   "cell_type": "code",
   "execution_count": 2,
   "metadata": {
    "collapsed": false
   },
   "outputs": [
    {
     "name": "stdout",
     "output_type": "stream",
     "text": [
      "{'contentAdvisoryRating': '17+', 'features': ['iosUniversal'], 'ipadScreenshotUrls': ['http://a1.mzstatic.com/us/r30/Purple5/v4/17/c6/8d/17c68df4-a3dd-94e3-85e7-47e1ff498f88/screen480x480.jpeg', 'http://a3.mzstatic.com/us/r30/Purple3/v4/a4/a5/3e/a4a53e86-3d96-1dee-dd9e-45d636c8ddf2/screen480x480.jpeg', 'http://a4.mzstatic.com/us/r30/Purple3/v4/e5/6e/37/e56e37b2-aa31-b2a5-b1cb-e46226835dfa/screen480x480.jpeg', 'http://a2.mzstatic.com/us/r30/Purple3/v4/ff/e7/3a/ffe73ad6-4a3e-7258-931d-eef074b0f14f/screen480x480.jpeg', 'http://a2.mzstatic.com/us/r30/Purple3/v4/b6/73/be/b673bec9-3b56-e9c7-f90b-6638aaea5f00/screen480x480.jpeg'], 'releaseDate': '2009-02-10T04:11:54Z', 'currency': 'USD', 'artistId': 302324252, 'isVppDeviceBasedLicensingEnabled': True, 'userRatingCountForCurrentVersion': 1337, 'trackName': 'Skout - Meet, Chat, Friend', 'genres': ['Social Networking', 'Lifestyle'], 'sellerName': 'Skout, Inc.', 'artworkUrl60': 'http://is2.mzstatic.com/image/pf/us/r30/Purple7/v4/5a/aa/dd/5aaadd0f-a56f-60e6-6001-384b83b0e223/Icon.png', 'artistName': 'Skout, Inc.', 'artworkUrl512': 'http://is3.mzstatic.com/image/pf/us/r30/Purple1/v4/73/04/09/73040959-1423-b1e8-4998-99f0a6edf44d/mzl.tskncnih.png', 'advisories': ['Infrequent/Mild Sexual Content and Nudity', 'Frequent/Intense Mature/Suggestive Themes'], 'primaryGenreId': 6005, 'primaryGenreName': 'Social Networking', 'averageUserRatingForCurrentVersion': 4.5, 'releaseNotes': 'Bug Fixes', 'isGameCenterEnabled': False, 'trackCensoredName': 'Skout - Meet, Chat, Friend', 'genreIds': ['6005', '6012'], 'description': u'Skout is the global network for meeting new people. \\n\\nInstantly meet people near you or around the world. Discover new friends at a local bar or in Barcelona. Millions of people are connecting and meeting through Skout every day. Use exciting in-app features to increase your chances of friending or chatting!\\n \\nExpand your social network with the tap of a button. It\\u2019s so much fun, you won\\u2019t be able to stop. Start Skouting and find your party, make new friends, or meet new people, anytime, anywhere. \\n\\nFeatures: Meet people by preference and proximity, chat, see who checked you out, get updates from nearby users, buy and send gifts, save your favorite users, browse profiles and pictures, promote your profile with in-app features, earn points to unlock premium features.\\n\\nDownload and join the Skout party now!\\n\\nPlease note: We take your privacy very seriously. You\\u2019re always in complete control \\u2013 your exact location and personal information will never be given without your permission. YOU decide if, when, and how you want to connect.', 'price': 0.0, 'version': '4.12.1', 'sellerUrl': 'http://www.skout.com', 'screenshotUrls': ['http://a5.mzstatic.com/us/r30/Purple3/v4/dc/39/2b/dc392bad-4869-8ad0-778b-a4f74174acbe/screen1136x1136.jpeg', 'http://a3.mzstatic.com/us/r30/Purple3/v4/04/45/8c/04458c12-3f81-2f07-1ffc-d1d99cfdff34/screen1136x1136.jpeg', 'http://a2.mzstatic.com/us/r30/Purple1/v4/e7/ea/3e/e7ea3e0c-2e16-cf49-f049-824f9b8ac700/screen1136x1136.jpeg', 'http://a2.mzstatic.com/us/r30/Purple1/v4/b3/ba/2c/b3ba2ce9-8d3e-8ed2-52ed-8a6c40245d2c/screen1136x1136.jpeg', 'http://a4.mzstatic.com/us/r30/Purple5/v4/e1/10/55/e11055bb-1987-c3f0-030e-b6b2a4503ab8/screen1136x1136.jpeg'], 'userRatingCount': 174255, 'trackContentRating': '17+', 'formattedPrice': 'Free', 'artistViewUrl': 'https://itunes.apple.com/us/artist/skout-inc./id302324252?uo=4', 'kind': 'software', 'fileSizeBytes': '34170757', 'wrapperType': 'software', 'supportedDevices': ['iPadFourthGen', 'iPadMini4G', 'iPhone4S', 'iPad2Wifi', 'iPhone6Plus', 'iPadThirdGen', 'iPadMini', 'iPadFourthGen4G', 'iPadThirdGen4G', 'iPhone5s', 'iPhone5', 'iPhone6', 'iPad23G', 'iPodTouchSixthGen', 'iPhone5c', 'iPhone4', 'iPodTouchFifthGen'], 'artworkUrl100': 'http://is3.mzstatic.com/image/pf/us/r30/Purple1/v4/73/04/09/73040959-1423-b1e8-4998-99f0a6edf44d/mzl.tskncnih.png', 'languageCodesISO2A': ['EN', 'FR', 'DE', 'ID', 'IT', 'JA', 'KO', 'PT', 'RU', 'ZH', 'ES', 'SV', 'TH', 'ZH'], 'trackViewUrl': 'https://itunes.apple.com/us/app/skout-meet-chat-friend/id302324249?mt=8&uo=4', 'minimumOsVersion': '7.0', 'trackId': 302324249, 'bundleId': 'com.skout.SKOUT', 'averageUserRating': 4.0}\n"
     ]
    }
   ],
   "source": [
    "import yaml\n",
    "import textwrap\n",
    "import requests\n",
    "import urllib\n",
    "from bs4 import BeautifulSoup, SoupStrainer\n",
    "appDat = urllib.urlopen(\"https://itunes.apple.com/lookup?id=302324249\")\n",
    "appDat = BeautifulSoup(appDat, 'html5lib').body.contents[0]\n",
    "appDat = yaml.load(appDat)['results'][0]\n",
    "print appDat"
   ]
  },
  {
   "cell_type": "markdown",
   "metadata": {},
   "source": [
    "I will now create a function to add some features to the dataset, where possible. The features I selected were the averageUserRating, the userRatingCount, the contentAdvisoryRating, the currency, the primaryGenreId, the primaryGenreName, and the formattedPrice."
   ]
  },
  {
   "cell_type": "code",
   "execution_count": 3,
   "metadata": {
    "collapsed": true
   },
   "outputs": [],
   "source": [
    "import yaml\n",
    "import textwrap\n",
    "import requests\n",
    "import urllib\n",
    "from bs4 import BeautifulSoup, SoupStrainer\n",
    "def addfeats(line):\n",
    "    try:\n",
    "        p = line.split('\\t')\n",
    "        appDat = urllib.urlopen(\"https://itunes.apple.com/lookup?id=\"+str(p[21]))\n",
    "        appDat = BeautifulSoup(appDat, 'html5lib').body.contents[0]\n",
    "        appDat = yaml.load(appDat)['results']\n",
    "        if len(appDat) > 0:\n",
    "            appDat = appDat[0]\n",
    "            userRate = str(appDat['averageUserRating'])\n",
    "            userRateCount = str(appDat['userRatingCount'])\n",
    "            return line + '\\t' + appDat['contentAdvisoryRating'] + '\\t' + appDat['currency'] + '\\t' + userRate + '\\t' + str(appDat['primaryGenreId']) + '\\t' + appDat['primaryGenreName'] + '\\t' + appDat['formattedPrice'] + '\\t' + userRateCount\n",
    "    except:\n",
    "        pass"
   ]
  },
  {
   "cell_type": "markdown",
   "metadata": {},
   "source": [
    "##__Data Encoding & Modeling__"
   ]
  },
  {
   "cell_type": "markdown",
   "metadata": {},
   "source": [
    "###__Model 1__"
   ]
  },
  {
   "cell_type": "markdown",
   "metadata": {},
   "source": [
    "Since the size of the dataset had presented a problem in training the model with my current setup, I will take a portion of the dataset and apply the model. This can still be extremely beneficial. Often, when data is heavily skewed, the minimum error or log loss can be reached with less data."
   ]
  },
  {
   "cell_type": "markdown",
   "metadata": {},
   "source": [
    "First I will apply the model with all original features and no additional features. This will help me examine how well the model fits without adding in the app attributes."
   ]
  },
  {
   "cell_type": "code",
   "execution_count": 5,
   "metadata": {
    "collapsed": true
   },
   "outputs": [],
   "source": [
    "# Load appropriate packages\n",
    "from pyspark.mllib.regression import LabeledPoint \n",
    "from pyspark.mllib.linalg import SparseVector\n",
    "import numpy as np"
   ]
  },
  {
   "cell_type": "code",
   "execution_count": 6,
   "metadata": {
    "collapsed": false
   },
   "outputs": [
    {
     "data": {
      "text/plain": [
       "PythonRDD[4] at RDD at PythonRDD.scala:43"
      ]
     },
     "execution_count": 6,
     "metadata": {},
     "output_type": "execute_result"
    }
   ],
   "source": [
    "weights = [.95, .025, .025] # Fraction of data for training\n",
    "seed = 68\n",
    "\n",
    "# Use randomSplit with weights and seed, partition\n",
    "mostData, rawTrainData, rawValData = rawData.randomSplit(weights, seed)\n",
    "# Cache the data\n",
    "rawTrainData.cache()\n",
    "rawValData.cache()"
   ]
  },
  {
   "cell_type": "code",
   "execution_count": 7,
   "metadata": {
    "collapsed": false
   },
   "outputs": [
    {
     "name": "stdout",
     "output_type": "stream",
     "text": [
      "[[(0, u'2015-07-30 00:00:00'), (1, u'\\\\N'), (2, u'\\\\N'), (3, u'49ae49a23f67c759bf4fc791ba842aa2'), (4, u'2'), (5, u'd41d8cd98f00b204e9800998ecf8427e'), (6, u'5c3bed7777c3ff23112626965b946ffa'), (7, u'RU'), (8, u'55.75'), (9, u'37.616600036621'), (10, u'\\\\N'), (11, u'\\\\N'), (12, u'\\\\N'), (13, u'\\\\N'), (14, u'iPhone'), (15, u'17'), (16, u'8'), (17, u'4'), (18, u'36'), (19, u'8'), (20, u'4'), (21, u'697766074'), (22, u'\\\\N'), (23, u'Rainly -WW')]]\n"
     ]
    }
   ],
   "source": [
    "def parseLine(line):\n",
    "    p = line.split('\\t')\n",
    "    return [(i, p[i]) for i in range(0,24)] \n",
    "\n",
    "parsedTrainFeat = rawTrainData.map(parseLine)\n",
    "print parsedTrainFeat.take(1)"
   ]
  },
  {
   "cell_type": "code",
   "execution_count": 8,
   "metadata": {
    "collapsed": true
   },
   "outputs": [],
   "source": [
    "def toOneHotDict(inputData):\n",
    "    dat = inputData.flatMap(lambda k: k).distinct()\n",
    "    return dat.zipWithIndex().collectAsMap()\n",
    "\n",
    "def oneHotEncoder(rawFeats, OHEDict, numOHEFeats):\n",
    "    v = []\n",
    "    for i in rawFeats:\n",
    "      if i in OHEDict: # To take out unforseen features, not observed in the model\n",
    "          v += [OHEDict[i]]\n",
    "    return SparseVector(numOHEFeats, sorted(v), np.ones(len(v)))"
   ]
  },
  {
   "cell_type": "code",
   "execution_count": 9,
   "metadata": {
    "collapsed": false
   },
   "outputs": [
    {
     "name": "stdout",
     "output_type": "stream",
     "text": [
      "500420\n"
     ]
    }
   ],
   "source": [
    "disnctTrainFeat = toOneHotDict(parsedTrainFeat) # Unique tuples\n",
    "numInstOHEFeats = len(disnctTrainFeat.keys()) \n",
    "\n",
    "print numInstOHEFeats"
   ]
  },
  {
   "cell_type": "code",
   "execution_count": 10,
   "metadata": {
    "collapsed": false
   },
   "outputs": [
    {
     "name": "stdout",
     "output_type": "stream",
     "text": [
      "[LabeledPoint(0.0, (500420,[8996,26533,46913,79967,94674,132004,159043,189180,199211,206120,238408,288735,297757,335439,349916,350336,355957,358780,374058,408503,410952,466092,478709,500052],[1.0,1.0,1.0,1.0,1.0,1.0,1.0,1.0,1.0,1.0,1.0,1.0,1.0,1.0,1.0,1.0,1.0,1.0,1.0,1.0,1.0,1.0,1.0,1.0]))]\n"
     ]
    }
   ],
   "source": [
    "def parseOHELine(line, OHEDict, numOHEFeats):\n",
    "    p = line.split('\\t')\n",
    "    l = p[24]\n",
    "    return LabeledPoint(l, oneHotEncoder(parseLine(line),OHEDict,numOHEFeats))\n",
    "\n",
    "# Train Data\n",
    "OHETrainData = rawTrainData.map(lambda line: parseOHELine(line, disnctTrainFeat, numInstOHEFeats))\n",
    "OHETrainData.cache()\n",
    "print OHETrainData.take(1)"
   ]
  },
  {
   "cell_type": "code",
   "execution_count": 11,
   "metadata": {
    "collapsed": false
   },
   "outputs": [
    {
     "name": "stdout",
     "output_type": "stream",
     "text": [
      "[LabeledPoint(0.0, (500420,[5366,11713,14612,100950,112635,120748,126239,132032,135069,149191,155018,183181,276333,311165,335439,340526,358780,374058,403653,408503,410952,417957,437104,483505],[1.0,1.0,1.0,1.0,1.0,1.0,1.0,1.0,1.0,1.0,1.0,1.0,1.0,1.0,1.0,1.0,1.0,1.0,1.0,1.0,1.0,1.0,1.0,1.0]))]\n"
     ]
    }
   ],
   "source": [
    "OHEValData = rawValData.map(lambda line: parseOHELine(line, disnctTrainFeat, numInstOHEFeats))\n",
    "OHEValData.cache()\n",
    "print OHEValData.take(1)"
   ]
  },
  {
   "cell_type": "code",
   "execution_count": 12,
   "metadata": {
    "collapsed": false
   },
   "outputs": [
    {
     "name": "stdout",
     "output_type": "stream",
     "text": [
      "Percentage of installs Train = 0.013\n",
      "Percentage of installs Validation = 0.014\n"
     ]
    }
   ],
   "source": [
    "trainInstalls = OHETrainData.filter(lambda lp: lp.label == 1).count()\n",
    "trainTot = OHETrainData.count()\n",
    "ValInstalls = OHEValData.filter(lambda lp: lp.label == 1).count()\n",
    "ValTot = OHEValData.count()\n",
    "\n",
    "print 'Percentage of installs Train = {0:.3f}'.format(trainInstalls/float(trainTot))\n",
    "print 'Percentage of installs Validation = {0:.3f}'.format(ValInstalls/float(ValTot))"
   ]
  },
  {
   "cell_type": "code",
   "execution_count": 13,
   "metadata": {
    "collapsed": false
   },
   "outputs": [
    {
     "name": "stdout",
     "output_type": "stream",
     "text": [
      "[-0.8857749934062551, -0.73362106783190761, -0.5304947239150799, -0.50602001071464187, -0.48842226663673921] 0.266366179873\n"
     ]
    }
   ],
   "source": [
    "from pyspark.mllib.classification import LogisticRegressionWithSGD \n",
    "\n",
    "# Fixed hyperparameters\n",
    "numIters = 50\n",
    "stepSize = 10.\n",
    "regParam = 1e-6\n",
    "regType = 'l2'\n",
    "includeIntercept = True\n",
    "\n",
    "model0 = LogisticRegressionWithSGD.train(OHETrainData, numIters, regParam=regParam, regType=regType, intercept=includeIntercept)\n",
    "sortedWeights = sorted(model0.weights)\n",
    "print sortedWeights[:5], model0.intercept # Examine five weights and intercept of model"
   ]
  },
  {
   "cell_type": "code",
   "execution_count": 14,
   "metadata": {
    "collapsed": true
   },
   "outputs": [],
   "source": [
    "from math import log\n",
    "\n",
    "def LogLoss(p, y):\n",
    "    epsilon = 10e-12 # To keep range between 0 and 1\n",
    "    if p == 0:\n",
    "      p = epsilon\n",
    "    elif p == 1:\n",
    "      p = p - epsilon\n",
    "    if y == 1:\n",
    "      ll = -log(p)\n",
    "    elif y == 0: \n",
    "      ll = -log(1-p)\n",
    "    return ll"
   ]
  },
  {
   "cell_type": "code",
   "execution_count": 15,
   "metadata": {
    "collapsed": false
   },
   "outputs": [
    {
     "name": "stdout",
     "output_type": "stream",
     "text": [
      "0.0131227336259\n",
      "Baseline Train Logloss = 0.070\n"
     ]
    }
   ],
   "source": [
    "instFractionTrain = OHETrainData.map(lambda lp: lp.label).mean()# Fraction of training with class one\n",
    "print instFractionTrain\n",
    "\n",
    "logLossTrBase = OHETrainData.map(lambda lp: LogLoss(instFractionTrain, lp.label)).mean()\n",
    "print 'Baseline Train Logloss = {0:.3f}'.format(logLossTrBase)"
   ]
  },
  {
   "cell_type": "code",
   "execution_count": 17,
   "metadata": {
    "collapsed": false
   },
   "outputs": [
    {
     "name": "stdout",
     "output_type": "stream",
     "text": [
      "[0.01688222552458853, 0.019830806992199065, 0.036782095510416356, 0.012696126882060012, 0.013297162864530287, 0.017785670148245974, 0.021979572666742428, 0.032118557743579586, 0.009627329601701103, 0.01857727405581918, 0.01383686693711041, 0.01127899764954564, 0.02541648853769492, 0.04432181554584034, 0.029246475546267532, 0.014637708956316223, 0.03760408113843197, 0.03170757099526329, 0.027330096254217135, 0.015215896250692279]\n"
     ]
    }
   ],
   "source": [
    "from math import exp \n",
    "\n",
    "def getPred(x, w, intercept):\n",
    "    rawPrediction = x.dot(w) + intercept \n",
    "    return float((1+exp(-rawPrediction))**(-1))\n",
    "\n",
    "trainingPredictions = OHETrainData.map(lambda lp: getPred(lp.features, model0.weights, model0.intercept))\n",
    "print trainingPredictions.take(20)"
   ]
  },
  {
   "cell_type": "code",
   "execution_count": 18,
   "metadata": {
    "collapsed": false
   },
   "outputs": [
    {
     "name": "stdout",
     "output_type": "stream",
     "text": [
      "Train Logloss:\n",
      "\tBaseline = 0.070\n",
      "\tLogReg = 0.059\n",
      "[(0.15019740739539597, 1.0), (0.14936559167749786, 1.0), (0.14730377501319716, 1.0), (0.14322966163028777, 1.0), (0.1411462953235459, 1.0)]\n"
     ]
    }
   ],
   "source": [
    "def evaluate(model, data):\n",
    "    p = data.map(lambda lp: getPred(lp.features, model.weights, model.intercept)).collect()\n",
    "    y = data.map(lambda lp: lp.label).collect()\n",
    "    logLoss = []\n",
    "    for i in range(len(p)):\n",
    "      logLoss.append(LogLoss(p[i], y[i]))\n",
    "    return np.mean(logLoss) # Mean of log loss between each prediction and label\n",
    "  \n",
    "logLossTrLR0 = evaluate(model0, OHETrainData)\n",
    "print ('Train Logloss:\\n\\tBaseline = {0:.3f}\\n\\tLogReg = {1:.3f}'\n",
    "       .format(logLossTrBase, logLossTrLR0))\n",
    "\n",
    "# Examine highest five predictions of training set\n",
    "probsAndLabelsTrain = OHETrainData.map(lambda lp: (getPred(lp.features, model0.weights, model0.intercept), lp.label))\n",
    "print probsAndLabelsTrain.filter(lambda x: x[1] ==1).takeOrdered(5, key = lambda x: -x[0])"
   ]
  },
  {
   "cell_type": "code",
   "execution_count": 19,
   "metadata": {
    "collapsed": false
   },
   "outputs": [
    {
     "data": {
      "image/png": "[encoded data removed]",
      "text/plain": [
       "<matplotlib.figure.Figure at 0xacf2774c>"
      ]
     },
     "metadata": {},
     "output_type": "display_data"
    }
   ],
   "source": [
    "import matplotlib.pyplot as plt\n",
    "\n",
    "\n",
    "def preparePlot(xticks, yticks, figsize=(10.5, 6), hideLabels=False, gridColor='#999999',\n",
    "                gridWidth=1.0):\n",
    "    plt.close()\n",
    "    fig, ax = plt.subplots(figsize=figsize, facecolor='white', edgecolor='white')\n",
    "    ax.axes.tick_params(labelcolor='#999999', labelsize='10')\n",
    "    for axis, ticks in [(ax.get_xaxis(), xticks), (ax.get_yaxis(), yticks)]:\n",
    "        axis.set_ticks_position('none')\n",
    "        axis.set_ticks(ticks)\n",
    "        axis.label.set_color('#999999')\n",
    "        if hideLabels: axis.set_ticklabels([])\n",
    "    plt.grid(color=gridColor, linewidth=gridWidth, linestyle='-')\n",
    "    map(lambda position: ax.spines[position].set_visible(False), ['bottom', 'top', 'left', 'right'])\n",
    "    return fig, ax\n",
    "\n",
    "labelsAndScores = OHETrainData.map(lambda lp:\n",
    "                                            (lp.label, getPred(lp.features, model0.weights, model0.intercept)))\n",
    "labelsAndWeights = labelsAndScores.collect()\n",
    "labelsAndWeights.sort(key=lambda (k, v): v, reverse=True)\n",
    "labelsByWeight = np.array([k for (k, v) in labelsAndWeights])\n",
    "\n",
    "length = labelsByWeight.size\n",
    "truePositives = labelsByWeight.cumsum()\n",
    "numPositive = truePositives[-1]\n",
    "falsePositives = np.arange(1.0, length + 1, 1.) - truePositives\n",
    "\n",
    "truePositiveRate = truePositives / numPositive\n",
    "falsePositiveRate = falsePositives / (length - numPositive)\n",
    "\n",
    "# Generate layout and plot data\n",
    "fig, ax = preparePlot(np.arange(0., 1.1, 0.1), np.arange(0., 1.1, 0.1))\n",
    "ax.set_xlim(-.05, 1.05), ax.set_ylim(-.05, 1.05)\n",
    "ax.set_ylabel('True Positive Rate (Sensitivity)')\n",
    "ax.set_xlabel('False Positive Rate (1 - Specificity)')\n",
    "plt.plot(falsePositiveRate, truePositiveRate, color='#66CC33', linestyle='-', linewidth=3.)\n",
    "plt.plot((0., 1.), (0., 1.), linestyle='--', color='#66CC99', linewidth=2.)  # Baseline model \n",
    "pass"
   ]
  },
  {
   "cell_type": "code",
   "execution_count": 20,
   "metadata": {
    "collapsed": false
   },
   "outputs": [
    {
     "data": {
      "text/plain": [
       "0.86614268744286815"
      ]
     },
     "execution_count": 20,
     "metadata": {},
     "output_type": "execute_result"
    }
   ],
   "source": [
    "from sklearn import metrics\n",
    "metrics.auc(falsePositiveRate, truePositiveRate)"
   ]
  },
  {
   "cell_type": "code",
   "execution_count": 21,
   "metadata": {
    "collapsed": false
   },
   "outputs": [
    {
     "name": "stdout",
     "output_type": "stream",
     "text": [
      "OHE Features Validation Logloss:\n",
      "\tBaseline = 0.072\n",
      "\tLogReg = 0.060\n",
      "[(0.18302403883155013, 1.0), (0.17508543268466595, 1.0), (0.1643240893348191, 1.0), (0.15618909345023263, 1.0), (0.14801977400363878, 1.0)]\n"
     ]
    }
   ],
   "source": [
    "logLossValBase = OHEValData.map(lambda lp: LogLoss(instFractionTrain, lp.label)).mean()\n",
    "logLossValLR0 = evaluate(model0, OHEValData)\n",
    "print ('OHE Features Validation Logloss:\\n\\tBaseline = {0:.3f}\\n\\tLogReg = {1:.3f}'\n",
    "       .format(logLossValBase, logLossValLR0))\n",
    "\n",
    "# Examine highest five predictions of validation set\n",
    "probsAndLabels = OHEValData.map(lambda lp: (getPred(lp.features, model0.weights, model0.intercept), lp.label))\n",
    "print probsAndLabels.filter(lambda x: x[1] ==1).takeOrdered(5, key = lambda x: -x[0])"
   ]
  },
  {
   "cell_type": "code",
   "execution_count": 22,
   "metadata": {
    "collapsed": false
   },
   "outputs": [
    {
     "data": {
      "image/png": "[encoded data removed]",
      "text/plain": [
       "<matplotlib.figure.Figure at 0xacb1f1cc>"
      ]
     },
     "metadata": {},
     "output_type": "display_data"
    }
   ],
   "source": [
    "labelsAndScores = OHEValData.map(lambda lp:\n",
    "                                            (lp.label, getPred(lp.features, model0.weights, model0.intercept)))\n",
    "labelsAndWeights = labelsAndScores.collect()\n",
    "labelsAndWeights.sort(key=lambda (k, v): v, reverse=True)\n",
    "labelsByWeight = np.array([k for (k, v) in labelsAndWeights])\n",
    "\n",
    "length = labelsByWeight.size\n",
    "truePositives = labelsByWeight.cumsum()\n",
    "numPositive = truePositives[-1]\n",
    "falsePositives = np.arange(1.0, length + 1, 1.) - truePositives\n",
    "\n",
    "truePositiveRate = truePositives / numPositive\n",
    "falsePositiveRate = falsePositives / (length - numPositive)\n",
    "\n",
    "# Generate layout and plot data\n",
    "fig, ax = preparePlot(np.arange(0., 1.1, 0.1), np.arange(0., 1.1, 0.1))\n",
    "ax.set_xlim(-.05, 1.05), ax.set_ylim(-.05, 1.05)\n",
    "ax.set_ylabel('True Positive Rate (Sensitivity)')\n",
    "ax.set_xlabel('False Positive Rate (1 - Specificity)')\n",
    "plt.plot(falsePositiveRate, truePositiveRate, color='#66CC33', linestyle='-', linewidth=3.)\n",
    "plt.plot((0., 1.), (0., 1.), linestyle='--', color='#66CC99', linewidth=2.)  # Baseline model \n",
    "pass"
   ]
  },
  {
   "cell_type": "code",
   "execution_count": 23,
   "metadata": {
    "collapsed": false
   },
   "outputs": [
    {
     "data": {
      "text/plain": [
       "0.87057936363834376"
      ]
     },
     "execution_count": 23,
     "metadata": {},
     "output_type": "execute_result"
    }
   ],
   "source": [
    "from sklearn import metrics\n",
    "metrics.auc(falsePositiveRate, truePositiveRate)"
   ]
  },
  {
   "cell_type": "markdown",
   "metadata": {},
   "source": [
    "The results of the first model look promising. However, this includes a feature that does not appropriately train the model. The second feature is a value that only occurs if an install occurred. Therefore, it is not appropriate to model. If a click occurred and that time is recorded, it cannot be assumed that the user will not install just because that dataset does not have a recorded install datetime. Therefore in the next model, I will take out this feature. I will also try to include more data and use feature hashing instead of one hot encoding."
   ]
  },
  {
   "cell_type": "markdown",
   "metadata": {},
   "source": [
    "###__Model 2__"
   ]
  },
  {
   "cell_type": "code",
   "execution_count": 4,
   "metadata": {
    "collapsed": true
   },
   "outputs": [],
   "source": [
    "# Load appropriate packages\n",
    "from pyspark.mllib.regression import LabeledPoint \n",
    "from pyspark.mllib.linalg import SparseVector\n",
    "import numpy as np"
   ]
  },
  {
   "cell_type": "code",
   "execution_count": 5,
   "metadata": {
    "collapsed": false
   },
   "outputs": [
    {
     "data": {
      "text/plain": [
       "PythonRDD[4] at RDD at PythonRDD.scala:43"
      ]
     },
     "execution_count": 5,
     "metadata": {},
     "output_type": "execute_result"
    }
   ],
   "source": [
    "weights = [.9, .05, .05] # Fraction of data for training\n",
    "seed = 32\n",
    "\n",
    "# Use randomSplit with weights and seed, partition\n",
    "mostData2, rawTrainData2, rawValData2 = rawData.randomSplit(weights, seed)\n",
    "# Cache the data\n",
    "rawTrainData2.cache()\n",
    "rawValData2.cache()"
   ]
  },
  {
   "cell_type": "code",
   "execution_count": 7,
   "metadata": {
    "collapsed": false
   },
   "outputs": [
    {
     "name": "stdout",
     "output_type": "stream",
     "text": [
      "[['02015-07-30 00:00:00', '1\\\\N', '249ae49a23f67c759bf4fc791ba842aa2', '32', '4d41d8cd98f00b204e9800998ecf8427e', '55c3bed7777c3ff23112626965b946ffa', '6RU', '755.75', '837.616600036621', '9\\\\N', '10\\\\N', '11\\\\N', '12\\\\N', '13iPhone', '1417', '158', '164', '1736', '188', '194', '20697766074', '21\\\\N', '22Rainly -WW']]\n"
     ]
    }
   ],
   "source": [
    "def parseLine(line):\n",
    "    p = line.split('\\t')\n",
    "    return [str(0) + p[0].encode('ascii', 'ignore')] + [str(i-1) + p[i].encode('ascii', 'ignore') for i in range(2,24)] # Skipping feature 2 and setup for hashing\n",
    "\n",
    "parsedTrainFeat2 = rawTrainData2.map(parseLine)\n",
    "print parsedTrainFeat2.take(1)"
   ]
  },
  {
   "cell_type": "code",
   "execution_count": 8,
   "metadata": {
    "collapsed": true
   },
   "outputs": [],
   "source": [
    "from collections import defaultdict\n",
    "import hashlib\n",
    "\n",
    "def hashFunction(numBuckets, rawFeats, printMapping=False):\n",
    "    mapping = {}\n",
    "    for category in rawFeats:\n",
    "        mapping[category] = int(int(hashlib.md5(category).hexdigest(), 16) % numBuckets)    \n",
    "    if(printMapping): print mapping\n",
    "    sparseFeatures = defaultdict(float)\n",
    "    for bucket in mapping.values():\n",
    "        sparseFeatures[bucket] += 1.0\n",
    "    return dict(sparseFeatures)"
   ]
  },
  {
   "cell_type": "code",
   "execution_count": 10,
   "metadata": {
    "collapsed": false
   },
   "outputs": [
    {
     "name": "stdout",
     "output_type": "stream",
     "text": [
      "[LabeledPoint(0.0, (32768,[1658,2817,8236,9140,9429,12205,13422,14047,15523,15761,16183,16910,17926,18229,18720,19885,20480,23882,24144,24383,29123,30490,30659],[1.0,1.0,1.0,1.0,1.0,1.0,1.0,1.0,1.0,1.0,1.0,1.0,1.0,1.0,1.0,1.0,1.0,1.0,1.0,1.0,1.0,1.0,1.0]))]\n"
     ]
    }
   ],
   "source": [
    "def parseHashPoint(point, numBuckets):\n",
    "    p = point.split('\\t')\n",
    "    return LabeledPoint(p[24], SparseVector(numBuckets, hashFunction(numBuckets,parseLine(point),False)))\n",
    "\n",
    "numBucketsIR = 2 ** 15\n",
    "hashTrainData = rawTrainData2.map(lambda point: parseHashPoint(point,numBucketsIR))\n",
    "hashTrainData.cache()\n",
    "\n",
    "\n",
    "\n",
    "print hashTrainData.take(1)"
   ]
  },
  {
   "cell_type": "code",
   "execution_count": 11,
   "metadata": {
    "collapsed": false
   },
   "outputs": [
    {
     "name": "stdout",
     "output_type": "stream",
     "text": [
      "[LabeledPoint(0.0, (32768,[3121,3696,4307,8236,9865,13422,14994,15761,16183,16274,18229,18812,18996,19173,20103,20928,24046,24144,26505,28405,28869,29023,31453],[1.0,1.0,1.0,1.0,1.0,1.0,1.0,1.0,1.0,1.0,1.0,1.0,1.0,1.0,1.0,1.0,1.0,1.0,1.0,1.0,1.0,1.0,1.0]))]\n"
     ]
    }
   ],
   "source": [
    "hashValidationData = rawValData2.map(lambda point: parseHashPoint(point,numBucketsIR))\n",
    "hashValidationData.cache()\n",
    "print hashValidationData.take(1)"
   ]
  },
  {
   "cell_type": "code",
   "execution_count": 12,
   "metadata": {
    "collapsed": false
   },
   "outputs": [
    {
     "name": "stdout",
     "output_type": "stream",
     "text": [
      "Percentage of installs Train = 0.013\n",
      "Percentage of installs Validation = 0.013\n"
     ]
    }
   ],
   "source": [
    "trainInstalls = hashTrainData.filter(lambda lp: lp.label == 1).count()\n",
    "trainTot = hashTrainData.count()\n",
    "ValInstalls = hashValidationData.filter(lambda lp: lp.label == 1).count()\n",
    "ValTot = hashValidationData.count()\n",
    "\n",
    "print 'Percentage of installs Train = {0:.3f}'.format(trainInstalls/float(trainTot))\n",
    "print 'Percentage of installs Validation = {0:.3f}'.format(ValInstalls/float(ValTot))"
   ]
  },
  {
   "cell_type": "code",
   "execution_count": 13,
   "metadata": {
    "collapsed": false
   },
   "outputs": [
    {
     "name": "stdout",
     "output_type": "stream",
     "text": [
      "[-0.83123816162168762, -0.58874446346111742, -0.55521284422932005, -0.52914616815289772, -0.51023947983542506] 0.168773624264\n"
     ]
    }
   ],
   "source": [
    "from pyspark.mllib.classification import LogisticRegressionWithSGD \n",
    "\n",
    "# Fixed hyperparameters\n",
    "numIters = 50\n",
    "stepSize = 10.\n",
    "regParam = 1e-6\n",
    "regType = 'l2'\n",
    "includeIntercept = True\n",
    "\n",
    "model1 = LogisticRegressionWithSGD.train(hashTrainData, numIters, regParam=regParam, regType=regType, intercept=includeIntercept)\n",
    "sortedWeights = sorted(model1.weights)\n",
    "print sortedWeights[:5], model1.intercept # Examine five weights and intercept of model"
   ]
  },
  {
   "cell_type": "code",
   "execution_count": 14,
   "metadata": {
    "collapsed": true
   },
   "outputs": [],
   "source": [
    "from math import log\n",
    "\n",
    "def LogLoss(p, y):\n",
    "    epsilon = 10e-12 # To keep range between 0 and 1\n",
    "    if p == 0:\n",
    "      p = epsilon\n",
    "    elif p == 1:\n",
    "      p = p - epsilon\n",
    "    if y == 1:\n",
    "      ll = -log(p)\n",
    "    elif y == 0: \n",
    "      ll = -log(1-p)\n",
    "    return ll"
   ]
  },
  {
   "cell_type": "code",
   "execution_count": 15,
   "metadata": {
    "collapsed": false
   },
   "outputs": [
    {
     "name": "stdout",
     "output_type": "stream",
     "text": [
      "0.0134183730296\n",
      "Baseline Train Logloss Hash = 0.071\n"
     ]
    }
   ],
   "source": [
    "instFractionTrainH = hashTrainData.map(lambda lp: lp.label).mean()# Fraction of training with class one\n",
    "print instFractionTrainH\n",
    "\n",
    "logLossTrBaseHash = hashTrainData.map(lambda lp: LogLoss(instFractionTrainH, lp.label)).mean()\n",
    "print 'Baseline Train Logloss Hash = {0:.3f}'.format(logLossTrBaseHash)"
   ]
  },
  {
   "cell_type": "code",
   "execution_count": 16,
   "metadata": {
    "collapsed": false
   },
   "outputs": [
    {
     "name": "stdout",
     "output_type": "stream",
     "text": [
      "[0.02199150371497694, 0.021957005501858372, 0.024695021451459357, 0.013310444737043885, 0.02472622373191032, 0.058479172489318346, 0.024682886883867532, 0.018393472294866632, 0.02441435973912308, 0.06251894455391742, 0.025261832201578977, 0.04563641921952233, 0.017572667759530848, 0.04198301286271768, 0.026525558237725077, 0.02631618052463759, 0.03945511997007898, 0.06241206762367815, 0.02092117325046867, 0.019354825457391263]\n"
     ]
    }
   ],
   "source": [
    "from math import exp \n",
    "\n",
    "def getPred(x, w, intercept):\n",
    "    rawPrediction = x.dot(w) + intercept \n",
    "    return float((1+exp(-rawPrediction))**(-1))\n",
    "\n",
    "trainingPredictionsH = hashTrainData.map(lambda lp: getPred(lp.features, model1.weights, model1.intercept))\n",
    "print trainingPredictionsH.take(20)"
   ]
  },
  {
   "cell_type": "code",
   "execution_count": 17,
   "metadata": {
    "collapsed": false
   },
   "outputs": [
    {
     "name": "stdout",
     "output_type": "stream",
     "text": [
      "Train Logloss:\n",
      "\tBaseline = 0.071\n",
      "\tLogReg = 0.072\n",
      "[(0.12957427255143703, 1.0), (0.11772786272550813, 1.0), (0.11310581021738543, 1.0), (0.10626033959887458, 1.0), (0.09739701069361652, 1.0)]\n"
     ]
    }
   ],
   "source": [
    "def evaluate(model, data):\n",
    "    p = data.map(lambda lp: getPred(lp.features, model.weights, model.intercept)).collect()\n",
    "    y = data.map(lambda lp: lp.label).collect()\n",
    "    logLoss = []\n",
    "    for i in range(len(p)):\n",
    "      logLoss.append(LogLoss(p[i], y[i]))\n",
    "    return np.mean(logLoss) # Mean of log loss between each prediction and label\n",
    "  \n",
    "logLossTrLR1 = evaluate(model1, hashTrainData)\n",
    "print ('Train Logloss:\\n\\tBaseline = {0:.3f}\\n\\tLogReg = {1:.3f}'\n",
    "       .format(logLossTrBaseHash, logLossTrLR1))\n",
    "\n",
    "# Examine highest five predictions of training set\n",
    "probsAndLabelsTrainH = hashTrainData.map(lambda lp: (getPred(lp.features, model1.weights, model1.intercept), lp.label))\n",
    "print probsAndLabelsTrainH.filter(lambda x: x[1] ==1).takeOrdered(5, key = lambda x: -x[0])"
   ]
  },
  {
   "cell_type": "code",
   "execution_count": 18,
   "metadata": {
    "collapsed": false
   },
   "outputs": [
    {
     "data": {
      "image/png": "[encoded data removed]",
      "text/plain": [
       "<matplotlib.figure.Figure at 0xaf24170c>"
      ]
     },
     "metadata": {},
     "output_type": "display_data"
    }
   ],
   "source": [
    "import matplotlib.pyplot as plt\n",
    "\n",
    "\n",
    "def preparePlot(xticks, yticks, figsize=(10.5, 6), hideLabels=False, gridColor='#999999',\n",
    "                gridWidth=1.0):\n",
    "    plt.close()\n",
    "    fig, ax = plt.subplots(figsize=figsize, facecolor='white', edgecolor='white')\n",
    "    ax.axes.tick_params(labelcolor='#999999', labelsize='10')\n",
    "    for axis, ticks in [(ax.get_xaxis(), xticks), (ax.get_yaxis(), yticks)]:\n",
    "        axis.set_ticks_position('none')\n",
    "        axis.set_ticks(ticks)\n",
    "        axis.label.set_color('#999999')\n",
    "        if hideLabels: axis.set_ticklabels([])\n",
    "    plt.grid(color=gridColor, linewidth=gridWidth, linestyle='-')\n",
    "    map(lambda position: ax.spines[position].set_visible(False), ['bottom', 'top', 'left', 'right'])\n",
    "    return fig, ax\n",
    "\n",
    "labelsAndScores = hashTrainData.map(lambda lp:\n",
    "                                            (lp.label, getPred(lp.features, model1.weights, model1.intercept)))\n",
    "labelsAndWeights = labelsAndScores.collect()\n",
    "labelsAndWeights.sort(key=lambda (k, v): v, reverse=True)\n",
    "labelsByWeight = np.array([k for (k, v) in labelsAndWeights])\n",
    "\n",
    "length = labelsByWeight.size\n",
    "truePositives = labelsByWeight.cumsum()\n",
    "numPositive = truePositives[-1]\n",
    "falsePositives = np.arange(1.0, length + 1, 1.) - truePositives\n",
    "\n",
    "truePositiveRate = truePositives / numPositive\n",
    "falsePositiveRate = falsePositives / (length - numPositive)\n",
    "\n",
    "# Generate layout and plot data\n",
    "fig, ax = preparePlot(np.arange(0., 1.1, 0.1), np.arange(0., 1.1, 0.1))\n",
    "ax.set_xlim(-.05, 1.05), ax.set_ylim(-.05, 1.05)\n",
    "ax.set_ylabel('True Positive Rate (Sensitivity)')\n",
    "ax.set_xlabel('False Positive Rate (1 - Specificity)')\n",
    "plt.plot(falsePositiveRate, truePositiveRate, color='#66CC33', linestyle='-', linewidth=3.)\n",
    "plt.plot((0., 1.), (0., 1.), linestyle='--', color='#66CC99', linewidth=2.)  # Baseline model \n",
    "pass"
   ]
  },
  {
   "cell_type": "code",
   "execution_count": 19,
   "metadata": {
    "collapsed": false
   },
   "outputs": [
    {
     "data": {
      "text/plain": [
       "0.60516171420269194"
      ]
     },
     "execution_count": 19,
     "metadata": {},
     "output_type": "execute_result"
    }
   ],
   "source": [
    "from sklearn import metrics\n",
    "metrics.auc(falsePositiveRate, truePositiveRate)"
   ]
  },
  {
   "cell_type": "code",
   "execution_count": 20,
   "metadata": {
    "collapsed": false
   },
   "outputs": [
    {
     "name": "stdout",
     "output_type": "stream",
     "text": [
      "OHE Features Validation Logloss:\n",
      "\tBaseline = 0.071\n",
      "\tLogReg = 0.072\n",
      "[(0.11044390090804246, 1.0), (0.10672418991582529, 1.0), (0.10275717468027455, 1.0), (0.09812331196695324, 1.0), (0.09768423935956132, 1.0)]\n"
     ]
    }
   ],
   "source": [
    "logLossValBaseHash = hashValidationData.map(lambda lp: LogLoss(instFractionTrainH, lp.label)).mean()\n",
    "logLossValLR1 = evaluate(model1, hashValidationData)\n",
    "print ('OHE Features Validation Logloss:\\n\\tBaseline = {0:.3f}\\n\\tLogReg = {1:.3f}'\n",
    "       .format(logLossValBaseHash, logLossValLR1))\n",
    "\n",
    "# Examine highest five predictions of validation set\n",
    "probsAndLabelsH = hashValidationData.map(lambda lp: (getPred(lp.features, model1.weights, model1.intercept), lp.label))\n",
    "print probsAndLabelsH.filter(lambda x: x[1] ==1).takeOrdered(5, key = lambda x: -x[0])"
   ]
  },
  {
   "cell_type": "code",
   "execution_count": 21,
   "metadata": {
    "collapsed": false
   },
   "outputs": [
    {
     "data": {
      "image/png": "[encoded data removed]",
      "text/plain": [
       "<matplotlib.figure.Figure at 0xaf26dfec>"
      ]
     },
     "metadata": {},
     "output_type": "display_data"
    }
   ],
   "source": [
    "labelsAndScores = hashValidationData.map(lambda lp:\n",
    "                                            (lp.label, getPred(lp.features, model1.weights, model1.intercept)))\n",
    "labelsAndWeights = labelsAndScores.collect()\n",
    "labelsAndWeights.sort(key=lambda (k, v): v, reverse=True)\n",
    "labelsByWeight = np.array([k for (k, v) in labelsAndWeights])\n",
    "\n",
    "length = labelsByWeight.size\n",
    "truePositives = labelsByWeight.cumsum()\n",
    "numPositive = truePositives[-1]\n",
    "falsePositives = np.arange(1.0, length + 1, 1.) - truePositives\n",
    "\n",
    "truePositiveRate = truePositives / numPositive\n",
    "falsePositiveRate = falsePositives / (length - numPositive)\n",
    "\n",
    "# Generate layout and plot data\n",
    "fig, ax = preparePlot(np.arange(0., 1.1, 0.1), np.arange(0., 1.1, 0.1))\n",
    "ax.set_xlim(-.05, 1.05), ax.set_ylim(-.05, 1.05)\n",
    "ax.set_ylabel('True Positive Rate (Sensitivity)')\n",
    "ax.set_xlabel('False Positive Rate (1 - Specificity)')\n",
    "plt.plot(falsePositiveRate, truePositiveRate, color='#66CC33', linestyle='-', linewidth=3.)\n",
    "plt.plot((0., 1.), (0., 1.), linestyle='--', color='#66CC99', linewidth=2.)  # Baseline model \n",
    "pass"
   ]
  },
  {
   "cell_type": "code",
   "execution_count": 22,
   "metadata": {
    "collapsed": false
   },
   "outputs": [
    {
     "data": {
      "text/plain": [
       "0.61128620166902592"
      ]
     },
     "execution_count": 22,
     "metadata": {},
     "output_type": "execute_result"
    }
   ],
   "source": [
    "from sklearn import metrics\n",
    "metrics.auc(falsePositiveRate, truePositiveRate)"
   ]
  },
  {
   "cell_type": "markdown",
   "metadata": {},
   "source": [
    "Clearly, the time stamp for the install was over-fitting the model. The AUC went form .87 to .61, which is not good at all. However, it is more appropriate. Again, it cannot be assumed that an install will not occur just because there is no time stamp yet presented."
   ]
  },
  {
   "cell_type": "markdown",
   "metadata": {},
   "source": [
    "For the next model I will try to add in additional features to see if this will help provide a better fit for the model."
   ]
  },
  {
   "cell_type": "markdown",
   "metadata": {},
   "source": [
    "###__Model 3__"
   ]
  },
  {
   "cell_type": "code",
   "execution_count": 4,
   "metadata": {
    "collapsed": true
   },
   "outputs": [],
   "source": [
    "# Load appropriate packages\n",
    "from pyspark.mllib.regression import LabeledPoint \n",
    "from pyspark.mllib.linalg import SparseVector\n",
    "import numpy as np"
   ]
  },
  {
   "cell_type": "code",
   "execution_count": 5,
   "metadata": {
    "collapsed": false
   },
   "outputs": [
    {
     "data": {
      "text/plain": [
       "PythonRDD[4] at RDD at PythonRDD.scala:43"
      ]
     },
     "execution_count": 5,
     "metadata": {},
     "output_type": "execute_result"
    }
   ],
   "source": [
    "weights = [.95, .025, .025] # Fraction of data for training\n",
    "seed = 25\n",
    "\n",
    "# Use randomSplit with weights and seed, partition\n",
    "mostData3, rawTrainData3, rawValData3 = rawData.randomSplit(weights, seed)\n",
    "# Cache the data\n",
    "rawTrainData3.cache()\n",
    "rawValData3.cache()"
   ]
  },
  {
   "cell_type": "code",
   "execution_count": 6,
   "metadata": {
    "collapsed": false
   },
   "outputs": [
    {
     "name": "stdout",
     "output_type": "stream",
     "text": [
      "[u'2015-07-30 00:00:03\\t\\\\N\\t\\\\N\\t49ae49a23f67c759bf4fc791ba842aa2\\t2\\td41d8cd98f00b204e9800998ecf8427e\\t5c3bed7777c3ff23112626965b946ffa\\tRU\\t55.75\\t37.616600036621\\t\\\\N\\t\\\\N\\t\\\\N\\t\\\\N\\tiPhone\\t17\\t8\\t4\\t36\\t8\\t4\\t667728512\\tcom.machinezone.gow\\tGame of War - Fire Age\\t0\\t9+\\tUSD\\t4.5\\t6014\\tGames\\tFree\\t83085']\n"
     ]
    }
   ],
   "source": [
    "rawTrainData3 = rawTrainData3.map(addfeats)\n",
    "print rawTrainData3.take(1)"
   ]
  },
  {
   "cell_type": "code",
   "execution_count": 7,
   "metadata": {
    "collapsed": false
   },
   "outputs": [
    {
     "name": "stdout",
     "output_type": "stream",
     "text": [
      "[u'2015-07-30 00:00:03\\t\\\\N\\t\\\\N\\t49ae49a23f67c759bf4fc791ba842aa2\\t2\\td41d8cd98f00b204e9800998ecf8427e\\t5c3bed7777c3ff23112626965b946ffa\\tRU\\t55.75\\t37.616600036621\\t\\\\N\\t\\\\N\\t\\\\N\\t\\\\N\\tiPhone\\t17\\t8\\t4\\t36\\t8\\t4\\t667728512\\tcom.machinezone.gow\\tGame of War - Fire Age\\t0\\t9+\\tUSD\\t4.5\\t6014\\tGames\\tFree\\t83085', u'2015-07-30 00:00:20\\t\\\\N\\t\\\\N\\t8eefcfdf5990e441f0fb6f3fad709e21\\t2\\t8e77b3768b440a281c5101ca7941d5e0\\td8628f0cadddbfc9dfc84f030f41847a\\tUS\\t40.100898742676\\t-83.014099121094\\t535\\tOH\\tColumbus\\t43085\\tiPhone\\t17\\t8\\t3\\t36\\t8\\t0\\t302324249\\t302324249\\tSkout - Meet, Chat, Friend\\t0\\t17+\\tUSD\\t4.0\\t6005\\tSocial Networking\\tFree\\t174255', u'2015-07-30 00:00:34\\t\\\\N\\t\\\\N\\tb337e84de8752b27eda3a12363109e80\\t1\\t9592593be776ba10fbe1f370da0a4b67\\td62677e74306f64b124e6b5f4d7f6925\\tUS\\t0\\t0\\t\\\\N\\tAE\\tFpo\\t\\\\N\\tiPhone\\t17\\t7\\t0\\t36\\t7\\t0\\t999096522\\tcom.pepsi.pass\\tPepsi Pass\\t0\\t17+\\tUSD\\t2.5\\t6023\\tFood & Drink\\tFree\\t179']\n"
     ]
    },
    {
     "data": {
      "text/plain": [
       "PythonRDD[7] at RDD at PythonRDD.scala:43"
      ]
     },
     "execution_count": 7,
     "metadata": {},
     "output_type": "execute_result"
    }
   ],
   "source": [
    "rawTrainData3 = rawTrainData3.filter(None)\n",
    "print rawTrainData3.take(3)\n",
    "rawTrainData3.cache()"
   ]
  },
  {
   "cell_type": "code",
   "execution_count": 10,
   "metadata": {
    "collapsed": false
   },
   "outputs": [
    {
     "name": "stdout",
     "output_type": "stream",
     "text": [
      "[u'2015-07-30 00:00:03\\t\\\\N\\t\\\\N\\t49ae49a23f67c759bf4fc791ba842aa2\\t2\\td41d8cd98f00b204e9800998ecf8427e\\t5c3bed7777c3ff23112626965b946ffa\\tRU\\t55.75\\t37.616600036621\\t\\\\N\\t\\\\N\\t\\\\N\\t\\\\N\\tiPhone\\t17\\t8\\t4\\t36\\t8\\t4\\t667728512\\tcom.machinezone.gow\\tGame of War - Fire Age\\t0\\t9+\\tUSD\\t4.5\\t6014\\tGames\\tFree\\t83085']\n"
     ]
    }
   ],
   "source": [
    "rawValData3 = rawValData3.map(addfeats)\n",
    "print rawValData3.take(1)"
   ]
  },
  {
   "cell_type": "code",
   "execution_count": 11,
   "metadata": {
    "collapsed": false
   },
   "outputs": [
    {
     "name": "stdout",
     "output_type": "stream",
     "text": [
      "[u'2015-07-30 00:00:03\\t\\\\N\\t\\\\N\\t49ae49a23f67c759bf4fc791ba842aa2\\t2\\td41d8cd98f00b204e9800998ecf8427e\\t5c3bed7777c3ff23112626965b946ffa\\tRU\\t55.75\\t37.616600036621\\t\\\\N\\t\\\\N\\t\\\\N\\t\\\\N\\tiPhone\\t17\\t8\\t4\\t36\\t8\\t4\\t667728512\\tcom.machinezone.gow\\tGame of War - Fire Age\\t0\\t9+\\tUSD\\t4.5\\t6014\\tGames\\tFree\\t83085', u'2015-07-30 00:00:14\\t\\\\N\\t\\\\N\\t49ae49a23f67c759bf4fc791ba842aa2\\t2\\td41d8cd98f00b204e9800998ecf8427e\\t5c3bed7777c3ff23112626965b946ffa\\tRU\\t55.75\\t37.616600036621\\t\\\\N\\t\\\\N\\t\\\\N\\t\\\\N\\tiPhone\\t17\\t8\\t4\\t36\\t8\\t4\\t449655162\\t\\\\N\\tGetTaxi - iOS\\t0\\t4+\\tUSD\\t4.0\\t6003\\tTravel\\tFree\\t916', u'2015-07-30 00:00:20\\t\\\\N\\t\\\\N\\t8eefcfdf5990e441f0fb6f3fad709e21\\t2\\t8e77b3768b440a281c5101ca7941d5e0\\td8628f0cadddbfc9dfc84f030f41847a\\tUS\\t40.100898742676\\t-83.014099121094\\t535\\tOH\\tColumbus\\t43085\\tiPhone\\t17\\t8\\t3\\t36\\t8\\t0\\t302324249\\t302324249\\tSkout - Meet, Chat, Friend\\t0\\t17+\\tUSD\\t4.0\\t6005\\tSocial Networking\\tFree\\t174255']\n"
     ]
    },
    {
     "data": {
      "text/plain": [
       "PythonRDD[13] at RDD at PythonRDD.scala:43"
      ]
     },
     "execution_count": 11,
     "metadata": {},
     "output_type": "execute_result"
    }
   ],
   "source": [
    "rawValData3 = rawValData3.filter(None)\n",
    "print rawValData3.take(3)\n",
    "rawValData3.cache()"
   ]
  },
  {
   "cell_type": "code",
   "execution_count": 8,
   "metadata": {
    "collapsed": false
   },
   "outputs": [],
   "source": [
    "def parseLine(line):\n",
    "    p = line.split('\\t')\n",
    "    return ([str(i-2) + p[i].encode('ascii', 'ignore') for i in range(2,24)] + \n",
    "            [str(i-3) + p[i].encode('ascii', 'ignore') for i in range(25,32)])\n",
    "\n",
    "#parsedTrainFeat3 = rawTrainData3.map(parseLine)\n",
    "#print parsedTrainFeat3.take(1)"
   ]
  },
  {
   "cell_type": "code",
   "execution_count": 9,
   "metadata": {
    "collapsed": true
   },
   "outputs": [],
   "source": [
    "from collections import defaultdict\n",
    "import hashlib\n",
    "\n",
    "def hashFunction(numBuckets, rawFeats, printMapping=False):\n",
    "    mapping = {}\n",
    "    for category in rawFeats:\n",
    "        mapping[category] = int(int(hashlib.md5(category).hexdigest(), 16) % numBuckets)    \n",
    "    if(printMapping): print mapping\n",
    "    sparseFeatures = defaultdict(float)\n",
    "    for bucket in mapping.values():\n",
    "        sparseFeatures[bucket] += 1.0\n",
    "    return dict(sparseFeatures)"
   ]
  },
  {
   "cell_type": "code",
   "execution_count": null,
   "metadata": {
    "collapsed": true
   },
   "outputs": [],
   "source": [
    "def parseHashPoint(point, numBuckets):\n",
    "    p = point.split('\\t')\n",
    "    return LabeledPoint(p[24], SparseVector(numBuckets, hashFunction(numBuckets,parseLine(point),False)))\n",
    "\n",
    "numBucketsIR = 2 ** 15\n",
    "hashTrainData = rawTrainData3.map(lambda point: parseHashPoint(point,numBucketsIR))\n",
    "hashTrainData.cache()\n",
    "\n",
    "\n",
    "\n",
    "print hashTrainData.take(1)"
   ]
  },
  {
   "cell_type": "markdown",
   "metadata": {},
   "source": [
    "Unfortunately, the runtime for this particular set of code is getting excessive and I will not be able to complete the third model. This is probably due to the lazy transformations in spark. It did not fully perform the addfeats function and is trying to perform this action in addition to the other fucntions I have defined above."
   ]
  },
  {
   "cell_type": "code",
   "execution_count": null,
   "metadata": {
    "collapsed": true
   },
   "outputs": [],
   "source": [
    "hashValidationData = rawValData3.map(lambda point: parseHashPoint(point,numBucketsIR))\n",
    "hashValidationData.cache()\n",
    "print hashValidationData.take(1)"
   ]
  },
  {
   "cell_type": "code",
   "execution_count": null,
   "metadata": {
    "collapsed": true
   },
   "outputs": [],
   "source": [
    "from pyspark.mllib.classification import LogisticRegressionWithSGD \n",
    "\n",
    "# Fixed hyperparameters\n",
    "numIters = 50\n",
    "stepSize = 10.\n",
    "regParam = 1e-6\n",
    "regType = 'l2'\n",
    "includeIntercept = True\n",
    "\n",
    "model2 = LogisticRegressionWithSGD.train(hashTrainData, numIters, regParam=regParam, regType=regType, intercept=includeIntercept)\n",
    "sortedWeights = sorted(model2.weights)\n",
    "print sortedWeights[:5], model2.intercept # Examine five weights and intercept of model"
   ]
  },
  {
   "cell_type": "code",
   "execution_count": null,
   "metadata": {
    "collapsed": true
   },
   "outputs": [],
   "source": [
    "from math import log\n",
    "\n",
    "def LogLoss(p, y):\n",
    "    epsilon = 10e-12 # To keep range between 0 and 1\n",
    "    if p == 0:\n",
    "      p = epsilon\n",
    "    elif p == 1:\n",
    "      p = p - epsilon\n",
    "    if y == 1:\n",
    "      ll = -log(p)\n",
    "    elif y == 0: \n",
    "      ll = -log(1-p)\n",
    "    return ll"
   ]
  },
  {
   "cell_type": "code",
   "execution_count": null,
   "metadata": {
    "collapsed": true
   },
   "outputs": [],
   "source": [
    "instFractionTrainH = hashTrainData.map(lambda lp: lp.label).mean()# Fraction of training with class one\n",
    "print instFractionTrainH\n",
    "\n",
    "logLossTrBaseHash = hashTrainData.map(lambda lp: LogLoss(instFractionTrainH, lp.label)).mean()\n",
    "print 'Baseline Train Logloss Hash = {0:.3f}'.format(logLossTrBaseHash)"
   ]
  },
  {
   "cell_type": "code",
   "execution_count": null,
   "metadata": {
    "collapsed": true
   },
   "outputs": [],
   "source": [
    "from math import exp \n",
    "\n",
    "def getPred(x, w, intercept):\n",
    "    rawPrediction = x.dot(w) + intercept \n",
    "    return float((1+exp(-rawPrediction))**(-1))\n",
    "\n",
    "trainingPredictionsH = hashTrainData.map(lambda lp: getPred(lp.features, model2.weights, model2.intercept))\n",
    "print trainingPredictionsH.take(20)"
   ]
  },
  {
   "cell_type": "code",
   "execution_count": null,
   "metadata": {
    "collapsed": true
   },
   "outputs": [],
   "source": [
    "def evaluate(model, data):\n",
    "    p = data.map(lambda lp: getPred(lp.features, model.weights, model.intercept)).collect()\n",
    "    y = data.map(lambda lp: lp.label).collect()\n",
    "    logLoss = []\n",
    "    for i in range(len(p)):\n",
    "      logLoss.append(LogLoss(p[i], y[i]))\n",
    "    return np.mean(logLoss) # Mean of log loss between each prediction and label\n",
    "  \n",
    "logLossTrLR2 = evaluate(model2, hashTrainData)\n",
    "print ('Train Logloss:\\n\\tBaseline = {0:.3f}\\n\\tLogReg = {1:.3f}'\n",
    "       .format(logLossTrBaseHash, logLossTrLR2))\n",
    "\n",
    "# Examine highest five predictions of training set\n",
    "probsAndLabelsTrainH = hashTrainData.map(lambda lp: (getPred(lp.features, model2.weights, model2.intercept), lp.label))\n",
    "print probsAndLabelsTrainH.filter(lambda x: x[1] ==1).takeOrdered(5, key = lambda x: -x[0])"
   ]
  },
  {
   "cell_type": "code",
   "execution_count": null,
   "metadata": {
    "collapsed": true
   },
   "outputs": [],
   "source": [
    "import matplotlib.pyplot as plt\n",
    "\n",
    "\n",
    "def preparePlot(xticks, yticks, figsize=(10.5, 6), hideLabels=False, gridColor='#999999',\n",
    "                gridWidth=1.0):\n",
    "    plt.close()\n",
    "    fig, ax = plt.subplots(figsize=figsize, facecolor='white', edgecolor='white')\n",
    "    ax.axes.tick_params(labelcolor='#999999', labelsize='10')\n",
    "    for axis, ticks in [(ax.get_xaxis(), xticks), (ax.get_yaxis(), yticks)]:\n",
    "        axis.set_ticks_position('none')\n",
    "        axis.set_ticks(ticks)\n",
    "        axis.label.set_color('#999999')\n",
    "        if hideLabels: axis.set_ticklabels([])\n",
    "    plt.grid(color=gridColor, linewidth=gridWidth, linestyle='-')\n",
    "    map(lambda position: ax.spines[position].set_visible(False), ['bottom', 'top', 'left', 'right'])\n",
    "    return fig, ax\n",
    "\n",
    "labelsAndScores = hashTrainData.map(lambda lp:\n",
    "                                            (lp.label, getPred(lp.features, model2.weights, model2.intercept)))\n",
    "labelsAndWeights = labelsAndScores.collect()\n",
    "labelsAndWeights.sort(key=lambda (k, v): v, reverse=True)\n",
    "labelsByWeight = np.array([k for (k, v) in labelsAndWeights])\n",
    "\n",
    "length = labelsByWeight.size\n",
    "truePositives = labelsByWeight.cumsum()\n",
    "numPositive = truePositives[-1]\n",
    "falsePositives = np.arange(1.0, length + 1, 1.) - truePositives\n",
    "\n",
    "truePositiveRate = truePositives / numPositive\n",
    "falsePositiveRate = falsePositives / (length - numPositive)\n",
    "\n",
    "# Generate layout and plot data\n",
    "fig, ax = preparePlot(np.arange(0., 1.1, 0.1), np.arange(0., 1.1, 0.1))\n",
    "ax.set_xlim(-.05, 1.05), ax.set_ylim(-.05, 1.05)\n",
    "ax.set_ylabel('True Positive Rate (Sensitivity)')\n",
    "ax.set_xlabel('False Positive Rate (1 - Specificity)')\n",
    "plt.plot(falsePositiveRate, truePositiveRate, color='#66CC33', linestyle='-', linewidth=3.)\n",
    "plt.plot((0., 1.), (0., 1.), linestyle='--', color='#66CC99', linewidth=2.)  # Baseline model \n",
    "pass"
   ]
  },
  {
   "cell_type": "code",
   "execution_count": null,
   "metadata": {
    "collapsed": true
   },
   "outputs": [],
   "source": [
    "from sklearn import metrics\n",
    "metrics.auc(falsePositiveRate, truePositiveRate)"
   ]
  },
  {
   "cell_type": "code",
   "execution_count": null,
   "metadata": {
    "collapsed": true
   },
   "outputs": [],
   "source": [
    "logLossValBaseHash = hashValidationData.map(lambda lp: LogLoss(instFractionTrainH, lp.label)).mean()\n",
    "logLossValLR2 = evaluate(model2, hashValidationData)\n",
    "print ('OHE Features Validation Logloss:\\n\\tBaseline = {0:.3f}\\n\\tLogReg = {1:.3f}'\n",
    "       .format(logLossValBaseHash, logLossValLR2))\n",
    "\n",
    "# Examine highest five predictions of validation set\n",
    "probsAndLabelsH = hashValidationData.map(lambda lp: (getPred(lp.features, model2.weights, model2.intercept), lp.label))\n",
    "print probsAndLabelsH.filter(lambda x: x[1] ==1).takeOrdered(5, key = lambda x: -x[0])"
   ]
  },
  {
   "cell_type": "code",
   "execution_count": null,
   "metadata": {
    "collapsed": true
   },
   "outputs": [],
   "source": [
    "labelsAndScores = hashValidationData.map(lambda lp:\n",
    "                                            (lp.label, getPred(lp.features, model2.weights, model2.intercept)))\n",
    "labelsAndWeights = labelsAndScores.collect()\n",
    "labelsAndWeights.sort(key=lambda (k, v): v, reverse=True)\n",
    "labelsByWeight = np.array([k for (k, v) in labelsAndWeights])\n",
    "\n",
    "length = labelsByWeight.size\n",
    "truePositives = labelsByWeight.cumsum()\n",
    "numPositive = truePositives[-1]\n",
    "falsePositives = np.arange(1.0, length + 1, 1.) - truePositives\n",
    "\n",
    "truePositiveRate = truePositives / numPositive\n",
    "falsePositiveRate = falsePositives / (length - numPositive)\n",
    "\n",
    "# Generate layout and plot data\n",
    "fig, ax = preparePlot(np.arange(0., 1.1, 0.1), np.arange(0., 1.1, 0.1))\n",
    "ax.set_xlim(-.05, 1.05), ax.set_ylim(-.05, 1.05)\n",
    "ax.set_ylabel('True Positive Rate (Sensitivity)')\n",
    "ax.set_xlabel('False Positive Rate (1 - Specificity)')\n",
    "plt.plot(falsePositiveRate, truePositiveRate, color='#66CC33', linestyle='-', linewidth=3.)\n",
    "plt.plot((0., 1.), (0., 1.), linestyle='--', color='#66CC99', linewidth=2.)  # Baseline model \n",
    "pass"
   ]
  },
  {
   "cell_type": "code",
   "execution_count": null,
   "metadata": {
    "collapsed": true
   },
   "outputs": [],
   "source": [
    "from sklearn import metrics\n",
    "metrics.auc(falsePositiveRate, truePositiveRate)"
   ]
  },
  {
   "cell_type": "markdown",
   "metadata": {
    "collapsed": true
   },
   "source": [
    "##__Conclusions__"
   ]
  },
  {
   "cell_type": "markdown",
   "metadata": {
    "collapsed": true
   },
   "source": [
    "The results are intriguing. I would have liked to have been able to use additional features and more data. I believe that if I had a better setup and more processing power, things would have been more efficient. If I had more time, I would have figured out a better method for attaching the additional features to the dataset and would have tried other types of models. I appreciate the opportunity to work with this data and am inspired by your company's work. "
   ]
  },
  {
   "cell_type": "markdown",
   "metadata": {
    "collapsed": true
   },
   "source": [
    "###__Key Take Aways & Lessons learned__"
   ]
  },
  {
   "cell_type": "markdown",
   "metadata": {
    "collapsed": true
   },
   "source": [
    "1. It is very important how you structure your transformations and actions. When working with large datasets, the setup is essential to how fast your code will run.\n",
    "2. You must pay attention to what attributes you are using and why they are important. It can be easy to assume that your model is great without realizing how you may be overfitting or using attributes that are unrealistic."
   ]
  }
 ],
 "metadata": {
  "kernelspec": {
   "display_name": "Python 2",
   "language": "python",
   "name": "python2"
  },
  "language_info": {
   "codemirror_mode": {
    "name": "ipython",
    "version": 2
   },
   "file_extension": ".py",
   "mimetype": "text/x-python",
   "name": "python",
   "nbconvert_exporter": "python",
   "pygments_lexer": "ipython2",
   "version": "2.7.6"
  }
 },
 "nbformat": 4,
 "nbformat_minor": 0
}
